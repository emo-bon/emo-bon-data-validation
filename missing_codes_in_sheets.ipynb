{
 "cells": [
  {
   "cell_type": "markdown",
   "id": "51d31c90-5ad1-42e2-90fd-feedd9eeba29",
   "metadata": {},
   "source": [
    "# Missing source_mat_ids - or how the source_mat_ids in the Batch run information sheets do not match the source_mat_ids in the Google logsheets "
   ]
  },
  {
   "cell_type": "markdown",
   "id": "688a224e-bcbc-4776-a8d0-e79ff6065faf",
   "metadata": {},
   "source": [
    "These are the emo-bon source_mat_ids (the primary identifier) from the Batch 1 and 2 run_information sheets that are missing from the Google logsheets. The leftmost code is the one found in the Batch 1 and 2 run_information sheets which are presumably the correct ones as they are manually curated by Ioulia. The next three are close matches using the python difflib.get_close_matches() function."
   ]
  },
  {
   "cell_type": "markdown",
   "id": "24df87d9-17f1-4f5e-b613-cf8df0326b64",
   "metadata": {},
   "source": [
    "Most have obvious matches where 200um has been changed to 0.2um, but some are less clear"
   ]
  },
  {
   "cell_type": "code",
   "execution_count": null,
   "id": "984598f6-c56d-44be-8269-ba22d41a0031",
   "metadata": {},
   "outputs": [],
   "source": [
    "['EMOBON_BPNS_Wa_210701_0.2um_2', ['EMOBON_BPNS_Wa_210701_200um_2', 'EMOBON_BPNS_Wa_210701_3um_2', 'EMOBON_BPNS_Wa_210701_NAum_2']]\n",
    "['EMOBON_BPNS_Wa_210701_0.2um_1', ['EMOBON_BPNS_Wa_210701_200um_1', 'EMOBON_BPNS_Wa_210701_3um_1', 'EMOBON_BPNS_Wa_210701_NAum_1']]\n",
    "['EMOBON_BPNS_Wa_210825_0.2um_1', ['EMOBON_BPNS_Wa_210825_200um_1', 'EMOBON_BPNS_Wa_210825_3um_1', 'EMOBON_BPNS_Wa_210825_NAum_1']]\n",
    "['EMOBON_BPNS_Wa_210825_0.2um_2', ['EMOBON_BPNS_Wa_210825_200um_2', 'EMOBON_BPNS_Wa_210825_3um_2', 'EMOBON_BPNS_Wa_210825_NAum_2']]\n",
    "['EMOBON_ROSKOGO_Wa_210618_0.2um_1', ['EMOBON_ROSKOGO_Wa_210618_200um_1', 'EMOBON_ROSKOGO_Wa_210618_200um_1', 'EMOBON_ROSKOGO_Wa_210618_3um_1']]\n",
    "['EMOBON_ROSKOGO_Wa_210618_0.2um_2', ['EMOBON_ROSKOGO_Wa_210618_200um_2', 'EMOBON_ROSKOGO_Wa_210618_3um_2', 'EMOBON_ROSKOGO_Wa_210618_200um_4']]\n",
    "['EMOBON_ROSKOGO_Wa_210802_0.2um_1', ['EMOBON_ROSKOGO_Wa_210802_200um_1', 'EMOBON_ROSKOGO_Wa_210802_3um_1', 'EMOBON_ROSKOGO_Wa_210802_200um_4']]\n",
    "['EMOBON_ROSKOGO_Wa_210802_0.2um_2', ['EMOBON_ROSKOGO_Wa_210802_200um_2', 'EMOBON_ROSKOGO_Wa_210802_3um_2', 'EMOBON_ROSKOGO_Wa_210802_200um_4']]\n",
    "['EMOBON_VB_Wa_210621_0.2um_1', ['EMOBON_VB_Wa_210621_3um_1', 'EMOBON_VB_Wa_210621_NAum_1', 'EMOBON_VB_Wa_210621_NAum_1']]\n",
    "['EMOBON_VB_Wa_210621_0.2um_2', ['EMOBON_VB_Wa_210621_3um_2', 'EMOBON_VB_Wa_210621_NAum_2', 'EMOBON_VB_Wa_210621_NAum_2']]\n",
    "['EMOBON_VB_Wa_210823_0.2um_1', ['EMOBON_VB_Wa_210823_3um_1', 'EMOBON_VB_Wa_210823_NAum_1', 'EMOBON_VB_Wa_210823_NAum_1']]\n",
    "['EMOBON_VB_Wa_210823_0.2um_2', ['EMOBON_VB_Wa_210823_3um_2', 'EMOBON_VB_Wa_210823_NAum_2', 'EMOBON_VB_Wa_210823_NAum_2']]\n",
    "['EMOBON_EMT21_Wa_210825_0.2um_1', ['EMOBON_EMT21_Wa_210825_200um_1', 'EMOBON_EMT21_Wa_210825_3um_1', 'EMOBON_EMT21_Wa_210825_NAum_1']]\n",
    "['EMOBON_EMT21_Wa_210825_0.2um_2', ['EMOBON_EMT21_Wa_210825_200um_2', 'EMOBON_EMT21_Wa_210825_3um_2', 'EMOBON_EMT21_Wa_210825_NAum_2']]\n",
    "['EMOBON_PiEGetxo_Wa_210824_0.2um_1', ['EMOBON_PiEGetxo_Wa_210824_200um_1', 'EMOBON_PiEGetxo_Wa_210824_3um_1', 'EMOBON_PiEGetxo_Wa_221024_200um_1']]\n",
    "['EMOBON_PiEGetxo_Wa_210824_0.2um_2', ['EMOBON_PiEGetxo_Wa_210824_200um_2', 'EMOBON_PiEGetxo_Wa_210824_3um_2', 'EMOBON_PiEGetxo_Wa_221024_200um_2']]\n",
    "['EMOBON_PiEGetxo_Wa_210824_0.2um_blank', ['EMOBON_PiEGetxo_Wa_210824_200um_blank', 'EMOBON_PiEGetxo_Wa_210824_200um_blank', 'EMOBON_PiEGetxo_Wa_210824_3um_blank']]\n",
    "['EMOBON_RFormosa_Wa_210805_0.2um_1', ['EMOBON_RFormosa_Wa_210805_200um_1', 'EMOBON_RFormosa_Wa_210805_3um_1', 'EMOBON_RFormosa_Wa_210805_200um_4']]\n",
    "['EMOBON_RFormosa_Wa_210805_0.2um_2', ['EMOBON_RFormosa_Wa_210805_200um_2', 'EMOBON_RFormosa_Wa_210805_3um_2', 'EMOBON_RFormosa_Wa_210805_200um_4']]\n",
    "['EMOBON_OSD74_Wa_210831_0.2um_1', ['EMOBON_OSD74_Wa_210831_200um_1', 'EMOBON_OSD74_Wa_210831_3um_1', 'EMOBON_OSD74_Wa_210831_200um_4']]\n",
    "['EMOBON_OSD74_Wa_210831_0.2um_2', ['EMOBON_OSD74_Wa_210831_200um_2', 'EMOBON_OSD74_Wa_210831_3um_2', 'EMOBON_OSD74_Wa_210831_200um_4']]\n",
    "['EMOBON_AAOT_Wa_210622_0.2um_1', ['EMOBON_AAOT_Wa_210622_200um_1', 'EMOBON_AAOT_Wa_210622_3um_1', 'EMOBON_AAOT_Wa_210622_2000um_1']]\n",
    "['EMOBON_AAOT_Wa_210622_0.2um_2', ['EMOBON_AAOT_Wa_210622_200um_2', 'EMOBON_AAOT_Wa_210622_3um_2', 'EMOBON_AAOT_Wa_210622_2000um_2']]\n",
    "['EMOBON_AAOT_Wa_210809_0.2um_1', ['EMOBON_AAOT_Wa_210809_200um_1', 'EMOBON_AAOT_Wa_210809_3um_1', 'EMOBON_AAOT_Wa_210809_2000um_1']]\n",
    "['EMOBON_AAOT_Wa_210809_0.2um_2', ['EMOBON_AAOT_Wa_210809_200um_2', 'EMOBON_AAOT_Wa_210809_3um_2', 'EMOBON_AAOT_Wa_210809_2000um_2']]\n",
    "['EMOBON_NRMCB_Wa_210621_0.2um_1', ['EMOBON_NRMCB_Wa_210621_200um_1', 'EMOBON_NRMCB_Wa_210621_3um_1', 'EMOBON_NRMCB_Wa_210621_NAum_1']]\n",
    "['EMOBON_NRMCB_Wa_210621_0.2um_2', ['EMOBON_NRMCB_Wa_210621_200um_2', 'EMOBON_NRMCB_Wa_210621_3um_2', 'EMOBON_NRMCB_Wa_210621_NAum_2']]\n",
    "['EMOBON_NRMCB_Wa_210831_0.2um_1', ['EMOBON_NRMCB_Wa_210831_3um_1', 'EMOBON_NRMCB_Wa_210831_NAum_1', 'EMOBON_NRMCB_Wa_210831_NAum_1']]\n",
    "['EMOBON_NRMCB_Wa_210831_0.2um_2', ['EMOBON_NRMCB_Wa_210831_3um_2', 'EMOBON_NRMCB_Wa_210831_NAum_2', 'EMOBON_NRMCB_Wa_210831_NAum_2']]\n",
    "['EMOBON_NRMCB_Wa_210831_0.2um_blank', ['EMOBON_NRMCB_Wa_210831_3um_blank', 'EMOBON_NRMCB_Wa_210831_NAum_blank', 'EMOBON_NRMCB_Wa_210831_NAum_blank']]\n",
    "['EMOBON_HCMR-1_Wa_210628_0.2um_1', ['EMOBON_HCMR-1_Wa_210628_200um_1', 'EMOBON_HCMR-1_Wa_210628_3um_1', 'EMOBON_HCMR-1_Wa_210628_200um_4']]\n",
    "['EMOBON_HCMR-1_Wa_210628_0.2um_2', ['EMOBON_HCMR-1_Wa_210628_200um_2', 'EMOBON_HCMR-1_Wa_210628_3um_2', 'EMOBON_HCMR-1_Wa_210628_200um_4']]\n",
    "['EMOBON_HCMR-1_Wa_210917_3um_blank', ['EMOBON_HCMR-1_Wa_210917_3um_blank2', 'EMOBON_HCMR-1_Wa_210917_3um_blank1', 'EMOBON_HCMR-1_Wa_210917_200um_blank2']]\n",
    "['EMOBON_HCMR-1_Wa_210917_0.2um_1', ['EMOBON_HCMR-1_Wa_210917_200um_1', 'EMOBON_HCMR-1_Wa_210917_3um_1', 'EMOBON_HCMR-1_Wa_210917_200um_4']]\n",
    "['EMOBON_HCMR-1_Wa_210917_0.2um_2', ['EMOBON_HCMR-1_Wa_210917_200um_2', 'EMOBON_HCMR-1_Wa_210917_3um_2', 'EMOBON_HCMR-1_Wa_210917_200um_4']]\n",
    "['EMOBON_HCMR-1_Wa_210917_0.2um_blank', ['EMOBON_HCMR-1_Wa_210917_200um_blank2', 'EMOBON_HCMR-1_Wa_210917_200um_blank1', 'EMOBON_HCMR-1_Wa_210917_3um_blank2']]\n",
    "['EMOBON_IUIEilat1_Wa_210829_0.2um_1', ['EMOBON_IUIEilat1_Wa_210829_200um_1', 'EMOBON_IUIEilat1_Wa_210829_3um_1', 'EMOBON_IUIEilat1_Wa_210829_200um_4']]\n",
    "['EMOBON_IUIEilat1_Wa_210829_0.2um_2', ['EMOBON_IUIEilat1_Wa_210829_200um_2', 'EMOBON_IUIEilat1_Wa_210829_3um_2', 'EMOBON_IUIEilat1_Wa_210829_200um_4']]\n",
    "['EMOBON_IUIEilat1_Wa_211018_0.2um_1', ['EMOBON_IUIEilat1_Wa_211018_200um_1', 'EMOBON_IUIEilat1_Wa_211018_3um_1', 'EMOBON_IUIEilat1_Wa_211018_200um_4']]\n",
    "['EMOBON_IUIEilat1_Wa_211018_0.2um_2', ['EMOBON_IUIEilat1_Wa_211018_200um_2', 'EMOBON_IUIEilat1_Wa_211018_3um_2', 'EMOBON_IUIEilat1_Wa_211018_200um_4']]\n",
    "['EMOBON_IUIEilat1_Wa_211219_0.2um_1', ['EMOBON_IUIEilat1_Wa_211219_200um_1', 'EMOBON_IUIEilat1_Wa_211219_3um_1', 'EMOBON_IUIEilat1_Wa_211219_200um_4']]\n",
    "['EMOBON_IUIEilat1_Wa_211219_0.2um_2', ['EMOBON_IUIEilat1_Wa_211219_200um_2', 'EMOBON_IUIEilat1_Wa_211219_3um_2', 'EMOBON_IUIEilat1_Wa_211219_200um_4']]\n",
    "['EMOBON_IUIEilat1_Wa_211219_0.2um_blank', ['EMOBON_IUIEilat1_Wa_211219_200um_blank', 'EMOBON_IUIEilat1_Wa_211219_3um_blank', 'EMOBON_IUIEilat1_Wa_210829_200um_blank']]\n",
    "['EMOBON_BPNS_Wa_211028_0.2um_1', ['EMOBON_BPNS_Wa_211028_200um_1', 'EMOBON_BPNS_Wa_211028_3um_1', 'EMOBON_BPNS_Wa_211028_NAum_1']]\n",
    "['EMOBON_BPNS_Wa_211028_0.2um_2', ['EMOBON_BPNS_Wa_211028_200um_2', 'EMOBON_BPNS_Wa_211028_3um_2', 'EMOBON_BPNS_Wa_211028_NAum_2']]\n",
    "['EMOBON_BPNS_Wa_211028_0.2um_blank', ['EMOBON_BPNS_Wa_211028_200um_blank', 'EMOBON_BPNS_Wa_211028_3um_blank', 'EMOBON_BPNS_Wa_211028_NAum_blank']]\n",
    "['EMOBON_BPNS_Wa_211223_0.2um_1', ['EMOBON_BPNS_Wa_211223_200um_1', 'EMOBON_BPNS_Wa_211223_3um_1', 'EMOBON_BPNS_Wa_211223_NAum_1']]\n",
    "['EMOBON_BPNS_Wa_211223_0.2um_2', ['EMOBON_BPNS_Wa_211223_200um_2', 'EMOBON_BPNS_Wa_211223_3um_2', 'EMOBON_BPNS_Wa_211223_NAum_2']]\n",
    "['EMOBON_EMT21_Wa_211020_0.2um_1', ['EMOBON_EMT21_Wa_211020_200um_1', 'EMOBON_EMT21_Wa_211020_3um_1', 'EMOBON_EMT21_Wa_211020_NAum_1']]\n",
    "['EMOBON_EMT21_Wa_211020_0.2um_2', ['EMOBON_EMT21_Wa_211020_200um_2', 'EMOBON_EMT21_Wa_211020_3um_2', 'EMOBON_EMT21_Wa_211020_NAum_2']]\n",
    "['EMOBON_EMT21_Wa_211216_0.2um_1', ['EMOBON_EMT21_Wa_211216_200um_1', 'EMOBON_EMT21_Wa_211216_3um_1', 'EMOBON_EMT21_Wa_211216_NAum_1']]\n",
    "['EMOBON_EMT21_Wa_211216_0.2um_2', ['EMOBON_EMT21_Wa_211216_200um_2', 'EMOBON_EMT21_Wa_211216_3um_2', 'EMOBON_EMT21_Wa_211216_NAum_2']]\n",
    "['EMOBON_EMT21_Wa_211216_0.2um_blank', ['EMOBON_EMT21_Wa_211216_200um_blank', 'EMOBON_EMT21_Wa_211216_3um_blank', 'EMOBON_EMT21_Wa_211216_NAum_blank']]\n",
    "['EMOBON_MBAL4_Wa_211103_0.2um_1', ['EMOBON_MBAL4_Wa_211103_200um_1', 'EMOBON_MBAL4_Wa_211103_3um_1', 'EMOBON_MBAL4_Wa_211103_200um_4']]\n",
    "['EMOBON_MBAL4_Wa_211103_0.2um_2', ['EMOBON_MBAL4_Wa_211103_200um_2', 'EMOBON_MBAL4_Wa_211103_3um_2', 'EMOBON_MBAL4_Wa_211103_200um_4']]\n",
    "['EMOBON_MBAL4_Wa_211216_0.2um_1', ['EMOBON_MBAL4_Wa_211216_200um_1', 'EMOBON_MBAL4_Wa_211216_3um_1', 'EMOBON_MBAL4_Wa_211216_200um_4']]\n",
    "['EMOBON_MBAL4_Wa_211216_0.2um_2', ['EMOBON_MBAL4_Wa_211216_200um_2', 'EMOBON_MBAL4_Wa_211216_3um_2', 'EMOBON_MBAL4_Wa_211216_200um_4']]\n",
    "['EMOBON_AAOT_Wa_211015_0.2um_1', ['EMOBON_AAOT_Wa_211015_200um_1', 'EMOBON_AAOT_Wa_211015_3um_1', 'EMOBON_AAOT_Wa_211015_2000um_1']]\n",
    "['EMOBON_AAOT_Wa_211015_0.2um_2', ['EMOBON_AAOT_Wa_211015_200um_2', 'EMOBON_AAOT_Wa_211015_3um_2', 'EMOBON_AAOT_Wa_211015_2000um_2']]\n",
    "['EMOBON_AAOT_Wa_211214_0.2um_1', ['EMOBON_AAOT_Wa_211214_200um_1', 'EMOBON_AAOT_Wa_211214_3um_1', 'EMOBON_AAOT_Wa_211214_2000um_1']]\n",
    "['EMOBON_AAOT_Wa_211214_0.2um_2', ['EMOBON_AAOT_Wa_211214_200um_2', 'EMOBON_AAOT_Wa_211214_3um_2', 'EMOBON_AAOT_Wa_211214_2000um_2']]\n",
    "['EMOBON_AAOT_Wa_211214_0.2um_blank', ['EMOBON_AAOT_Wa_211214_200um_blank', 'EMOBON_AAOT_Wa_211214_3um_blank', 'EMOBON_AAOT_Wa_211214_2000um_blank']]\n",
    "['EMOBON_VB_Wa_211018_0.2um_1', ['EMOBON_VB_Wa_211018_3um_1', 'EMOBON_VB_Wa_211018_NAum_1', 'EMOBON_VB_Wa_211018_NAum_1']]\n",
    "['EMOBON_VB_Wa_211018_0.2um_2', ['EMOBON_VB_Wa_211018_3um_2', 'EMOBON_VB_Wa_211018_NAum_2', 'EMOBON_VB_Wa_211018_NAum_2']]\n",
    "['EMOBON_VB_Wa_211018_0.2um_blank', ['EMOBON_VB_Wa_211018_3um_blank', 'EMOBON_VB_Wa_211018_NAum_blank', 'EMOBON_VB_Wa_211018_NAum_blank']]\n",
    "['EMOBON_VB_Wa_211217_0.2um_1', ['EMOBON_VB_Wa_211217_3um_1', 'EMOBON_VB_Wa_211217_NAum_1', 'EMOBON_VB_Wa_211217_NAum_1']]\n",
    "['EMOBON_VB_Wa_211217_0.2um_2', ['EMOBON_VB_Wa_211217_3um_2', 'EMOBON_VB_Wa_211217_NAum_2', 'EMOBON_VB_Wa_211217_NAum_2']]\n",
    "['EMOBON_ROSKOGO_Wa_211014_0.2um_1', ['EMOBON_ROSKOGO_Wa_211014_200um_1', 'EMOBON_ROSKOGO_Wa_211014_3um_1', 'EMOBON_ROSKOGO_Wa_211014_200um_4']]\n",
    "['EMOBON_ROSKOGO_Wa_211014_0.2um_2', ['EMOBON_ROSKOGO_Wa_211014_200um_2', 'EMOBON_ROSKOGO_Wa_211014_3um_2', 'EMOBON_ROSKOGO_Wa_211014_200um_4']]\n",
    "['EMOBON_ROSKOGO_Wa_211014_0.2um_blank', ['EMOBON_ROSKOGO_Wa_211014_um_blank', 'EMOBON_ROSKOGO_Wa_211014_3um_blank', 'EMOBON_ROSKOGO_Wa_230414_um_blank']]\n",
    "['EMOBON_ROSKOGO_Wa_211213_0.2um_1', ['EMOBON_ROSKOGO_Wa_211213_200um_1', 'EMOBON_ROSKOGO_Wa_211213_3um_1', 'EMOBON_ROSKOGO_Wa_211213_200um_4']]\n",
    "['EMOBON_ROSKOGO_Wa_211213_0.2um_2', ['EMOBON_ROSKOGO_Wa_211213_200um_2', 'EMOBON_ROSKOGO_Wa_211213_3um_2', 'EMOBON_ROSKOGO_Wa_211213_200um_4']]\n",
    "['EMOBON_PiEGetxo_Wa_211027_0.2um_1', ['EMOBON_PiEGetxo_Wa_211027_um_1', 'EMOBON_PiEGetxo_Wa_211027_um_1', 'EMOBON_PiEGetxo_Wa_211027_um_1']]\n",
    "['EMOBON_PiEGetxo_Wa_211027_0.2um_2', ['EMOBON_PiEGetxo_Wa_211027_um_2', 'EMOBON_PiEGetxo_Wa_211027_um_2', 'EMOBON_PiEGetxo_Wa_211027_um_2']]\n",
    "['EMOBON_PiEGetxo_Wa_211222_0.2um_1', ['EMOBON_PiEGetxo_Wa_211222_um_1', 'EMOBON_PiEGetxo_Wa_211222_um_1', 'EMOBON_PiEGetxo_Wa_211222_200um_1']]\n",
    "['EMOBON_PiEGetxo_Wa_211222_0.2um_2', ['EMOBON_PiEGetxo_Wa_211222_um_2', 'EMOBON_PiEGetxo_Wa_211222_um_2', 'EMOBON_PiEGetxo_Wa_211222_200um_2']]\n",
    "['EMOBON_RFormosa_Wa_211022_0.2um_1', ['EMOBON_RFormosa_Wa_211022_200um_1', 'EMOBON_RFormosa_Wa_211022_3um_1', 'EMOBON_RFormosa_Wa_211220_200um_1']]\n",
    "['EMOBON_RFormosa_Wa_211022_0.2um_2', ['EMOBON_RFormosa_Wa_211022_200um_2', 'EMOBON_RFormosa_Wa_211022_3um_2', 'EMOBON_RFormosa_Wa_211220_200um_2']]\n",
    "['EMOBON_RFormosa_Wa_211220_0.2um_1', ['EMOBON_RFormosa_Wa_211220_200um_1', 'EMOBON_RFormosa_Wa_211220_3um_1', 'EMOBON_RFormosa_Wa_211220_200um_4']]\n",
    "['EMOBON_RFormosa_Wa_211220_0.2um_2', ['EMOBON_RFormosa_Wa_211220_200um_2', 'EMOBON_RFormosa_Wa_211220_3um_2', 'EMOBON_RFormosa_Wa_211220_200um_4']]\n",
    "['EMOBON_RFormosa_Wa_211220_0.2um_blank', ['EMOBON_RFormosa_Wa_211220_200um_blank', 'EMOBON_RFormosa_Wa_211220_3um_blank', 'EMOBON_RFormosa_Wa_211022_200um_blank']]\n",
    "['EMOBON_NRMCB_Wa_211026_0.2um_1', ['EMOBON_NRMCB_Wa_211026_200um_1', 'EMOBON_NRMCB_Wa_211026_3um_1', 'EMOBON_NRMCB_Wa_211026_NAum_1']]\n",
    "['EMOBON_NRMCB_Wa_211026_0.2um_2', ['EMOBON_NRMCB_Wa_211026_200um_2', 'EMOBON_NRMCB_Wa_211026_3um_2', 'EMOBON_NRMCB_Wa_211026_NAum_2']]\n",
    "['EMOBON_NRMCB_Wa_211221_0.2um_1', ['EMOBON_NRMCB_Wa_211221_200um_1', 'EMOBON_NRMCB_Wa_211221_3um_1', 'EMOBON_NRMCB_Wa_211221_NAum_1']]\n",
    "['EMOBON_NRMCB_Wa_211221_0.2um_2', ['EMOBON_NRMCB_Wa_211221_200um_2', 'EMOBON_NRMCB_Wa_211221_3um_2', 'EMOBON_NRMCB_Wa_211221_NAum_2']]\n",
    "['EMOBON_OSD74_Wa_211028_0.2um_1', ['EMOBON_OSD74_Wa_211028_200um_1', 'EMOBON_OSD74_Wa_211028_3um_1', 'EMOBON_OSD74_Wa_211218_200um_1']]\n",
    "['EMOBON_OSD74_Wa_211028_0.2um_2', ['EMOBON_OSD74_Wa_211028_200um_2', 'EMOBON_OSD74_Wa_211028_3um_2', 'EMOBON_OSD74_Wa_211218_200um_2']]\n",
    "['EMOBON_OSD74_Wa_211218_0.2um_1', ['EMOBON_OSD74_Wa_211218_200um_1', 'EMOBON_OSD74_Wa_211218_3um_1', 'EMOBON_OSD74_Wa_211218_200um_4']]\n",
    "['EMOBON_OSD74_Wa_211218_0.2um_2', ['EMOBON_OSD74_Wa_211218_200um_2', 'EMOBON_OSD74_Wa_211218_3um_2', 'EMOBON_OSD74_Wa_211218_200um_4']]\n",
    "['EMOBON_OSD74_Wa_211218_0.2um_blank', ['EMOBON_OSD74_Wa_211218_200um_blank', 'EMOBON_OSD74_Wa_211218_3um_blank', 'EMOBON_OSD74_Wa_211028_200um_blank']]"
   ]
  }
 ],
 "metadata": {
  "kernelspec": {
   "display_name": "Python 3 (ipykernel)",
   "language": "python",
   "name": "python3"
  },
  "language_info": {
   "codemirror_mode": {
    "name": "ipython",
    "version": 3
   },
   "file_extension": ".py",
   "mimetype": "text/x-python",
   "name": "python",
   "nbconvert_exporter": "python",
   "pygments_lexer": "ipython3",
   "version": "3.10.10"
  }
 },
 "nbformat": 4,
 "nbformat_minor": 5
}
